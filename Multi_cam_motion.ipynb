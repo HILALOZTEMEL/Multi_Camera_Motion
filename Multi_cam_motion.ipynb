{
  "nbformat": 4,
  "nbformat_minor": 0,
  "metadata": {
    "colab": {
      "provenance": [],
      "authorship_tag": "ABX9TyP8baqo3fOdUMafdFnkBrJf",
      "include_colab_link": true
    },
    "kernelspec": {
      "name": "python3",
      "display_name": "Python 3"
    },
    "language_info": {
      "name": "python"
    }
  },
  "cells": [
    {
      "cell_type": "markdown",
      "metadata": {
        "id": "view-in-github",
        "colab_type": "text"
      },
      "source": [
        "<a href=\"https://colab.research.google.com/github/HILALOZTEMEL/Multi_Camera_Motion/blob/main/Multi_cam_motion.ipynb\" target=\"_parent\"><img src=\"https://colab.research.google.com/assets/colab-badge.svg\" alt=\"Open In Colab\"/></a>"
      ]
    },
    {
      "cell_type": "code",
      "execution_count": null,
      "metadata": {
        "id": "sHOoQYnuviIn"
      },
      "outputs": [],
      "source": [
        "# import the necessary packages\n",
        "from __future__ import print_function\n",
        "\n",
        "from imutils.video import VideoStream\n",
        "import numpy as np\n",
        "import time\n",
        "import cv2\n",
        "\n",
        "\n",
        "# Define range of pink color in HSV\n",
        "lower_pink = np.array([140, 50, 50])  # Lower bound of pink hue\n",
        "upper_pink = np.array([170, 255, 255])  # Upper bound of pink hue\n",
        "\n",
        "\n",
        "\n",
        "# initialize the video streams and allow them to warmup\n",
        "print(\"[INFO] starting cameras...\")\n",
        "webcam = VideoStream(src=0).start()\n",
        "webcam1 = VideoStream(src=1).start()\n",
        "time.sleep(2.0)\n",
        "\n",
        "\n",
        "\n",
        "# loop over frames from the video streams\n",
        "while True:\n",
        "    # initialize the list of frames that have been processed\n",
        "    frames = []\n",
        "    # loop over the frames and their respective motion detectors\n",
        "    for (stream) in (webcam, webcam1):\n",
        "        # read the next frame from the video stream and resize\n",
        "        # it to have a maximum width of 400 pixels\n",
        "        frame = stream.read()\n",
        "        frame = cv2.resize(frame,(480,480))\n",
        "\n",
        "\n",
        "        hsv=cv2.cvtColor(frame,cv2.COLOR_BGR2HSV)\n",
        "        gray=cv2.cvtColor(frame,cv2.COLOR_BGR2GRAY)\n",
        "        gray_blurred = cv2.medianBlur(gray,5)\n",
        "        circles=cv2.HoughCircles(gray_blurred,cv2.HOUGH_GRADIENT,1,frame.shape[0]/4,param1=200,param2=45,minRadius=1,maxRadius=1200)\n",
        "        #4535 max radius 1200 lük çember için\n",
        "        answer=[0,0,0]\n",
        "        found=\"\"\n",
        "        if circles is not None:\n",
        "\n",
        "                circles=np.uint16(np.around(circles))\n",
        "\n",
        "                for x,y,r in circles[0,:]:\n",
        "                    width = 480  # Replace with the actual width of your image\n",
        "                    height = 480\n",
        "\n",
        "                    if 0 <= x < width and 0 <= y < height:\n",
        "                        if np.all(np.greater(hsv[y][x], lower_pink)) and np.all(np.less_equal(hsv[y][x], upper_pink)):\n",
        "\n",
        "\n",
        "                            cv2.circle(frame,(x,y),r,(0,255,0),2)\n",
        "\n",
        "                            found+='pink'\n",
        "\n",
        "                            answer=[x,y,2]\n",
        "\n",
        "                        else:\n",
        "\n",
        "                            answer=[0,0,0]\n",
        "\n",
        "                            found+='no'\n",
        "\n",
        "\n",
        "\n",
        "        # update the frames list\n",
        "        frames.append(frame)\n",
        "\n",
        "    # loop over the frames a second time\n",
        "    for (frame, name) in zip(frames, (\"Webcam\", \"Webcam1\")):\n",
        "\n",
        "\n",
        "        cv2.imshow(name, frame)\n",
        "    # check to see if a key was pressed\n",
        "    key = cv2.waitKey(1) & 0xFF\n",
        "    # if the `q` key was pressed, break from the loop\n",
        "    if key == ord(\"q\"):\n",
        "        break\n",
        "# do a bit of cleanup\n",
        "print(\"[INFO] cleaning up...\")\n",
        "cv2.destroyAllWindows()\n",
        "webcam.stop()\n",
        "webcam1.stop()"
      ]
    }
  ]
}